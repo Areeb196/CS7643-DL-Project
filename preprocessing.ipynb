{
  "cells": [
    {
      "cell_type": "code",
      "execution_count": 6,
      "metadata": {
        "id": "8cgwVxnooand"
      },
      "outputs": [],
      "source": [
        "import warnings\n",
        "warnings.filterwarnings(\"ignore\")\n",
        "import tensorflow as tf\n",
        "import numpy as np\n",
        "import pandas as pd\n",
        "from pathlib import Path\n",
        "from nltk.tokenize import word_tokenize, sent_tokenize\n",
        "import plotly.express as px\n",
        "from plotly.offline import iplot\n",
        "\n",
        "import os\n",
        "import cv2\n",
        "import argparse\n",
        "import numpy as np\n",
        "import pandas as pd\n",
        "import glob\n",
        "from PIL import Image\n",
        "import datetime\n",
        "import matplotlib.pyplot as plt\n",
        "\n",
        "from collections import Counter\n",
        "import tensorflow as tf\n",
        "from tensorflow.keras import layers\n",
        "from tensorflow import keras\n",
        "from keras.callbacks import Callback\n",
        "from keras.backend import clear_session\n",
        "from keras.models import Model, load_model, Sequential\n",
        "from keras.layers import Dense, Input, Flatten, Conv2D, MaxPooling2D, BatchNormalization\n",
        "from tensorflow.keras.applications import resnet50, mobilenet, xception\n",
        "from tensorflow.keras.optimizers import SGD\n",
        "\n",
        "from sklearn.metrics import f1_score\n",
        "from sklearn.model_selection import train_test_split\n"
      ]
    },
    {
      "cell_type": "code",
      "execution_count": 7,
      "metadata": {
        "colab": {
          "base_uri": "https://localhost:8080/"
        },
        "id": "R-c2fSYTziww",
        "outputId": "385daba4-5f12-4ccf-8c8f-5e00d5a21496"
      },
      "outputs": [
        {
          "output_type": "stream",
          "name": "stdout",
          "text": [
            "Drive already mounted at /content/drive; to attempt to forcibly remount, call drive.mount(\"/content/drive\", force_remount=True).\n"
          ]
        }
      ],
      "source": [
        "from google.colab import drive\n",
        "drive.mount('/content/drive')"
      ]
    },
    {
      "cell_type": "code",
      "execution_count": 8,
      "metadata": {
        "id": "02P0B1WYon6t"
      },
      "outputs": [],
      "source": [
        "# data_path = \"/content/drive/MyDrive/gproject/Food Images/Food Images\"\n",
        "images_fl = '/content/drive/MyDrive/gproject/Food Images/Food Images'"
      ]
    },
    {
      "cell_type": "code",
      "execution_count": 10,
      "metadata": {
        "id": "EZsDOwfSxZLK"
      },
      "outputs": [],
      "source": [
        "image_files = os.listdir(images_fl)\n",
        "image_file_set= set(image_files)"
      ]
    },
    {
      "cell_type": "code",
      "execution_count": 9,
      "metadata": {
        "id": "OxvzNRB7J5pD"
      },
      "outputs": [],
      "source": [
        "df = pd.read_csv('/content/drive/MyDrive/gproject/Food Ingredients and Recipe Dataset with Image Name Mapping.csv')"
      ]
    },
    {
      "cell_type": "code",
      "source": [
        "# df"
      ],
      "metadata": {
        "id": "IVjufe8V3Yo6"
      },
      "execution_count": 11,
      "outputs": []
    },
    {
      "cell_type": "code",
      "source": [
        "df = df.dropna(subset=['Image_Name'])"
      ],
      "metadata": {
        "id": "96MfJxhK3bHg"
      },
      "execution_count": 12,
      "outputs": []
    },
    {
      "cell_type": "code",
      "source": [
        "# df"
      ],
      "metadata": {
        "id": "aXJTcdNA3dOF"
      },
      "execution_count": 10,
      "outputs": []
    },
    {
      "cell_type": "code",
      "source": [
        "df['Image_Name'] = df['Image_Name'].str.strip().str.lower()"
      ],
      "metadata": {
        "id": "zFen2S7c2XzQ"
      },
      "execution_count": 13,
      "outputs": []
    },
    {
      "cell_type": "code",
      "source": [
        "df['Image_Name'] = df['Image_Name'].apply(lambda x: x + '.jpg' if not x.endswith(('.jpg', '.png')) else x)\n",
        "\n",
        "df['Image_Path'] = df['Image_Name'].apply(lambda x: os.path.join(images_fl, x))\n",
        "image_file_set = {f for f in os.listdir(images_fl) if f.lower().endswith(('.jpg', '.png'))}\n",
        "df['Valid_Image'] = df['Image_Name'].isin(image_file_set)\n",
        "valid_df = df[df['Valid_Image']].copy()\n",
        "\n",
        "\n",
        "# List any missing images\n",
        "missing_images = df[~df['Valid_Image']]['Image_Name'].unique()\n",
        "\n",
        "\n",
        "valid_df['Ingredients'] = valid_df['Ingredients'].apply(lambda x: [i.strip() for i in x.split(',')])\n",
        "\n",
        "# Create a sorted list of unique ingredients\n",
        "valid_ingredients_list = sorted(list({ingredient for row in valid_df['Ingredients'] for ingredient in row}))\n",
        "\n",
        "# Number of unique ingredients\n",
        "NUM_INGREDIENTS = len(valid_ingredients_list)\n",
        "print(NUM_INGREDIENTS)\n",
        "\n",
        "#  a mapping from ingredient to index\n",
        "ingredient_to_index = {ingredient: id1 for id1, ingredient in enumerate(valid_ingredients_list)}\n",
        "\n",
        "\n",
        "# print(valid_df.head())"
      ],
      "metadata": {
        "colab": {
          "base_uri": "https://localhost:8080/"
        },
        "id": "dTiruWTt2eoN",
        "outputId": "fb6371b5-ee3a-4190-d9f3-7757e9ec3bf0"
      },
      "execution_count": 14,
      "outputs": [
        {
          "output_type": "stream",
          "name": "stdout",
          "text": [
            "83223\n"
          ]
        }
      ]
    },
    {
      "cell_type": "code",
      "source": [
        "valid_df = valid_df[valid_df['Image_Name'] != '#name?.jpg']"
      ],
      "metadata": {
        "id": "45yPcy454QD0"
      },
      "execution_count": 15,
      "outputs": []
    },
    {
      "cell_type": "code",
      "source": [
        "# valid_df"
      ],
      "metadata": {
        "id": "7O6PZuFC4-A-"
      },
      "execution_count": 16,
      "outputs": []
    },
    {
      "cell_type": "code",
      "source": [
        "df = df.drop(df.columns[0], axis=1)"
      ],
      "metadata": {
        "id": "wiwTaWVV55M_"
      },
      "execution_count": 17,
      "outputs": []
    },
    {
      "cell_type": "code",
      "execution_count": 18,
      "metadata": {
        "colab": {
          "base_uri": "https://localhost:8080/"
        },
        "id": "7aR3XC9EMeyF",
        "outputId": "fc95d97d-1334-48c9-feaf-0973dea11677"
      },
      "outputs": [
        {
          "output_type": "stream",
          "name": "stdout",
          "text": [
            "object\n",
            "0\n"
          ]
        }
      ],
      "source": [
        "print(df['Image_Name'].dtype)\n",
        "print(df['Image_Name'].isnull().sum())\n",
        "# print(df['Image_Name'].isnull().sum())\n",
        "missing_extensions = df[~df['Image_Name'].str.endswith(('.jpg'))]\n",
        "# print(missing_extensions)\n",
        "df['Image_Name'] = df['Image_Name'].str.strip().str.lower()\n",
        "df = df.drop(df.columns[0], axis=1)\n",
        "# df"
      ]
    },
    {
      "cell_type": "code",
      "execution_count": 19,
      "metadata": {
        "id": "CTWa8LEpVNfH"
      },
      "outputs": [],
      "source": [
        "# fixing mising extensio\n",
        "df['Image_Name'] = df['Image_Name'].apply(lambda x: x + '.jpg' if not x.endswith(('.jpg', '.png')) else x)"
      ]
    },
    {
      "cell_type": "code",
      "execution_count": 20,
      "metadata": {
        "colab": {
          "base_uri": "https://localhost:8080/"
        },
        "id": "haaVeUama-n0",
        "outputId": "7efb55df-efc7-45c1-93aa-ab90029d3831"
      },
      "outputs": [
        {
          "output_type": "stream",
          "name": "stdout",
          "text": [
            "Missing images: {'#name?.jpg'}\n",
            "Number of valid rows: 13471\n"
          ]
        }
      ],
      "source": [
        "dataset_images = set(df['Image_Name'])\n",
        "missing_images = dataset_images - image_file_set\n",
        "if missing_images:\n",
        "    print(f\"Missing images: {missing_images}\")\n",
        "else:\n",
        "    print(\"No missing images.\")\n",
        "valid_df = df[df['Image_Name'].isin(image_file_set)]\n",
        "print(f\"Number of valid rows: {len(valid_df)}\")\n",
        "\n",
        "# # Use `valid_df` for dataset creation\n",
        "# dataset = create_dataset(valid_df)"
      ]
    },
    {
      "cell_type": "code",
      "source": [
        "from PIL import UnidentifiedImageError\n",
        "import tensorflow as tf\n",
        "\n",
        "def data_generator(df):\n",
        "    for _,row in df.iterrows():\n",
        "        try:\n",
        "            image =row['image']\n",
        "            label =row['encoded_ingredients']\n",
        "            yield image, label\n",
        "        except (UnidentifiedImageError, Exception) as e:\n",
        "            print(e)"
      ],
      "metadata": {
        "id": "O_A6UdhPWKw5"
      },
      "execution_count": 21,
      "outputs": []
    },
    {
      "cell_type": "code",
      "source": [
        "valid_df['Image_Name'][1]"
      ],
      "metadata": {
        "colab": {
          "base_uri": "https://localhost:8080/",
          "height": 35
        },
        "id": "c-xrt5dxi6qY",
        "outputId": "0295e481-44fa-465d-d7c2-c8fc72cdcc3e"
      },
      "execution_count": 22,
      "outputs": [
        {
          "output_type": "execute_result",
          "data": {
            "text/plain": [
              "'crispy-salt-and-pepper-potatoes-dan-kluger.jpg'"
            ],
            "application/vnd.google.colaboratory.intrinsic+json": {
              "type": "string"
            }
          },
          "metadata": {},
          "execution_count": 22
        }
      ]
    },
    {
      "cell_type": "code",
      "execution_count": 23,
      "metadata": {
        "id": "TG6EdSVsMYzh"
      },
      "outputs": [],
      "source": [
        "df['Ingredients'] = df['Ingredients'].apply(lambda x: x.split(','))\n",
        "valid_ingredients_list = sorted(list({Ingredient.strip() for row in df['Ingredients'] for Ingredient in row}))\n",
        "NUM_INGREDIENTS = len(valid_ingredients_list)"
      ]
    },
    {
      "cell_type": "code",
      "execution_count": null,
      "metadata": {
        "colab": {
          "base_uri": "https://localhost:8080/"
        },
        "id": "fNxH6Ci_Mp8s",
        "outputId": "615d7c65-2270-465e-a3e9-0077b27c553e"
      },
      "outputs": [
        {
          "output_type": "execute_result",
          "data": {
            "text/plain": [
              "83374"
            ]
          },
          "metadata": {},
          "execution_count": 65
        }
      ],
      "source": [
        "NUM_INGREDIENTS"
      ]
    },
    {
      "cell_type": "code",
      "execution_count": 24,
      "metadata": {
        "id": "Ts7N634yMp2e"
      },
      "outputs": [],
      "source": [
        "# Ingredient to index mapping\n",
        "ingredient_to_index ={Ingredient: idx for idx, Ingredient in enumerate(valid_ingredients_list)}\n",
        "# ingredient_to_index"
      ]
    },
    {
      "cell_type": "code",
      "execution_count": 25,
      "metadata": {
        "id": "yLKHizQVM8cm"
      },
      "outputs": [],
      "source": [
        "def encode_ingredients(ingredients):\n",
        "    encoded = [0] * NUM_INGREDIENTS\n",
        "    for ingredient in ingredients:\n",
        "        if ingredient in ingredient_to_index:\n",
        "            encoded[ingredient_to_index[ingredient]] = 1\n",
        "    return encoded\n",
        "\n",
        "\n"
      ]
    },
    {
      "cell_type": "code",
      "execution_count": 26,
      "metadata": {
        "id": "f0wdK2moNbci"
      },
      "outputs": [],
      "source": [
        "# Preprocessing\n",
        "img_size = 224\n",
        "Chnnls = 3\n",
        "\n",
        "def preprocess_image(image_path):\n",
        "    image= tf.io.read_file(image_path)\n",
        "    image= tf.image.decode_jpeg(image, channels=3)\n",
        "    image= tf.image.resize(image, [img_size,img_size])\n",
        "    image= image /255.0\n",
        "    return image\n"
      ]
    },
    {
      "cell_type": "code",
      "execution_count": 27,
      "metadata": {
        "id": "TgVal9MUNjTT"
      },
      "outputs": [],
      "source": [
        "def preprocess_data(row, index=None):\n",
        "    image_name = row['Image_Name']\n",
        "    if image_name in image_file_set:\n",
        "\n",
        "        image_path = os.path.join(images_fl, image_name)\n",
        "        image =preprocess_image(image_path)\n",
        "    else:\n",
        "        image = tf.zeros((img_size, img_size, 3))\n",
        "\n",
        "    # Convert ingredients to a tensor\n",
        "    ingredients = tf.convert_to_tensor(row['encoded_ingredients'], dtype=tf.float32)\n",
        "    return image,ingredients"
      ]
    },
    {
      "cell_type": "code",
      "execution_count": 28,
      "metadata": {
        "id": "sm58L1kDe5gC"
      },
      "outputs": [],
      "source": [
        "def data_generator(df):\n",
        "    for _, row in df.iterrows():\n",
        "        try:\n",
        "            image = tf.io.read_file(row['Image_Path'])\n",
        "            image = tf.image.decode_jpeg(image, channels=3)\n",
        "            image = tf.image.resize(image, [img_size,img_size])\n",
        "            label = row['encoded_ingredients']\n",
        "            yield image, label\n",
        "        except Exception as e:\n",
        "            print(e)\n"
      ]
    },
    {
      "cell_type": "code",
      "execution_count": 29,
      "metadata": {
        "id": "fG772HeCKh24"
      },
      "outputs": [],
      "source": [
        "img_size = 224\n",
        "NUM_INGREDIENTS = 83374\n",
        "BATCH_SIZE = 8\n",
        "EPOCHS = 5\n",
        "ACTI = \"relu\"\n",
        "channels=3"
      ]
    },
    {
      "cell_type": "code",
      "execution_count": 30,
      "metadata": {
        "id": "0u0reBpIOvk6"
      },
      "outputs": [],
      "source": [
        "from sklearn.model_selection import train_test_split\n",
        "def create_dataset(df):\n",
        "\n",
        "    dataset = tf.data.Dataset.from_generator(\n",
        "        lambda: data_generator(df),\n",
        "        output_signature=(\n",
        "            tf.TensorSpec(shape=(img_size, img_size, 3), dtype=tf.float32),\n",
        "            tf.TensorSpec(shape=(NUM_INGREDIENTS,), dtype=tf.float32)\n",
        "        )\n",
        "    )\n",
        "    return dataset.shuffle(buffer_size=100).batch(BATCH_SIZE).prefetch(tf.data.AUTOTUNE)\n",
        "\n",
        "train_df, val_df = train_test_split(valid_df, test_size=0.2, random_state=42)\n",
        "\n",
        "# Create TensorFlow datasets\n",
        "train_dataset = create_dataset(train_df)\n",
        "val_dataset = create_dataset(val_df)\n",
        "\n",
        "\n",
        "# Build the model\n",
        "model = tf.keras.Sequential([\n",
        "    tf.keras.layers.Flatten(input_shape=(img_size, img_size, 3)),\n",
        "    tf.keras.layers.Dense(8, activation='relu'),\n",
        "    tf.keras.layers.Dense(NUM_INGREDIENTS, activation='sigmoid')\n",
        "])\n",
        "model.add(tf.keras.layers.Rescaling(1.0 / 255, input_shape=(img_size, img_size, channels)))\n",
        "\n",
        "\n",
        "# Resize and rescale layer\n",
        "resize_and_rescale = tf.keras.layers.Rescaling(1.0 / 255)\n",
        "\n",
        "# Data augmentation\n",
        "data_augmentation = tf.keras.Sequential([\n",
        "    tf.keras.layers.RandomFlip(\"horizontal\"),\n",
        "    tf.keras.layers.RandomRotation(0.1),\n",
        "])\n",
        "\n",
        "model.add(resize_and_rescale)\n",
        "model.add(data_augmentation)\n"
      ]
    },
    {
      "cell_type": "code",
      "source": [
        "valid_image_paths = []\n",
        "\n",
        "def validate_images(df):\n",
        "    for _, row in df.iterrows():\n",
        "        try:\n",
        "            image = tf.io.read_file(row['Image_Path'])\n",
        "            image = tf.image.decode_jpeg(image, channels=3)\n",
        "            valid_image_paths.append(row['Image_Path'])\n",
        "        except:\n",
        "            print(f\"Invalid image: {row['Image_Path']}\")\n",
        "\n",
        "validate_images(valid_df)\n",
        "\n",
        "valid_df= valid_df[valid_df['Image_Path'].isin(valid_image_paths)]\n",
        "\n",
        "# Create TensorFlow datasets\n",
        "train_df, val_df = train_test_split(valid_df, test_size=0.2, random_state=42)\n",
        "train_dataset = create_dataset(train_df)\n",
        "val_dataset = create_dataset(val_df)\n",
        "\n",
        "# Build the model\n",
        "model = tf.keras.Sequential([\n",
        "    tf.keras.layers.Rescaling(1.0 / 255, input_shape=(img_size, img_size, 3)),\n",
        "    tf.keras.layers.Flatten(),\n",
        "    tf.keras.layers.Dense(64, activation='relu'),\n",
        "    tf.keras.layers.Dense(NUM_INGREDIENTS, activation='sigmoid')\n",
        "])\n",
        "\n",
        "# Compile the model\n",
        "model.compile(\n",
        "    loss='binary_crossentropy',\n",
        "    optimizer='adam',\n",
        "    metrics=['accuracy']\n",
        ")\n",
        "\n",
        "# Train the model\n",
        "# history = model.fit(train_dataset, epochs=2, validation_data=val_dataset)"
      ],
      "metadata": {
        "colab": {
          "base_uri": "https://localhost:8080/"
        },
        "id": "ipwpMgke7JS7",
        "outputId": "20efadec-2ffb-4463-dde1-174bb5a07920"
      },
      "execution_count": null,
      "outputs": [
        {
          "output_type": "stream",
          "name": "stdout",
          "text": [
            "Invalid image: /content/drive/MyDrive/gproject/Food Images/Food Images/la-pina-cocktail-mezcal-pineapple.jpg\n",
            "Invalid image: /content/drive/MyDrive/gproject/Food Images/Food Images/arinato-cocktail-ivy-mix.jpg\n"
          ]
        }
      ]
    },
    {
      "cell_type": "code",
      "execution_count": null,
      "metadata": {
        "id": "Wcgrm6gTPDVe",
        "colab": {
          "base_uri": "https://localhost:8080/",
          "height": 468
        },
        "outputId": "9dedd36d-23d7-429e-f595-58c8ead802c9"
      },
      "outputs": [
        {
          "output_type": "display_data",
          "data": {
            "text/plain": [
              "<Figure size 1000x500 with 2 Axes>"
            ],
            "image/png": "[encoded data removed]"
          },
          "metadata": {}
        }
      ],
      "source": [
        "# Analyze training history\n",
        "import matplotlib.pyplot as plt\n",
        "\n",
        "# Plot training accuracy and loss\n",
        "plt.figure(figsize=(10, 5))\n",
        "\n",
        "# Training accuracy\n",
        "plt.subplot(1, 2, 1)\n",
        "plt.plot(history.history['accuracy'], label='Training Accuracy')\n",
        "plt.plot(history.history['val_accuracy'], label='Validation Accuracy')\n",
        "plt.title('Accuracy')\n",
        "plt.legend()\n",
        "\n",
        "# Training loss\n",
        "plt.subplot(1, 2, 2)\n",
        "plt.plot(history.history['loss'], label='Training Loss')\n",
        "plt.plot(history.history['val_loss'], label='Validation Loss')\n",
        "plt.title('Loss')\n",
        "plt.legend()\n",
        "\n",
        "plt.show()\n"
      ]
    },
    {
      "cell_type": "code",
      "execution_count": null,
      "metadata": {
        "id": "5gOxAEaXbST3",
        "colab": {
          "base_uri": "https://localhost:8080/"
        },
        "outputId": "5ad7c7ba-57c0-4374-fe53-3a050d794c4f"
      },
      "outputs": [
        {
          "output_type": "execute_result",
          "data": {
            "text/plain": [
              "<_PrefetchDataset element_spec=(TensorSpec(shape=(None, 224, 224, 3), dtype=tf.float32, name=None), TensorSpec(shape=(None, 83374), dtype=tf.float32, name=None))>"
            ]
          },
          "metadata": {},
          "execution_count": 23
        }
      ],
      "source": [
        "dataset"
      ]
    }
  ],
  "metadata": {
    "colab": {
      "provenance": [],
      "machine_shape": "hm",
      "gpuType": "T4"
    },
    "kernelspec": {
      "display_name": "Python 3",
      "name": "python3"
    },
    "language_info": {
      "name": "python"
    },
    "accelerator": "GPU"
  },
  "nbformat": 4,
  "nbformat_minor": 0
}