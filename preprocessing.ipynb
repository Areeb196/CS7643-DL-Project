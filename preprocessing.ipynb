{
  "cells": [
    {
      "cell_type": "code",
      "execution_count": 4,
      "metadata": {
        "id": "8cgwVxnooand"
      },
      "outputs": [],
      "source": [
        "import warnings\n",
        "warnings.filterwarnings(\"ignore\")\n",
        "import tensorflow as tf\n",
        "import numpy as np\n",
        "import pandas as pd\n",
        "from pathlib import Path\n",
        "from nltk.tokenize import word_tokenize, sent_tokenize\n",
        "import plotly.express as px\n",
        "from plotly.offline import iplot\n",
        "\n",
        "import os\n",
        "import cv2\n",
        "import argparse\n",
        "import numpy as np\n",
        "import pandas as pd\n",
        "import glob\n",
        "from PIL import Image\n",
        "import datetime\n",
        "import matplotlib.pyplot as plt\n",
        "\n",
        "from collections import Counter\n",
        "import tensorflow as tf\n",
        "from tensorflow.keras import layers\n",
        "from tensorflow import keras\n",
        "from keras.callbacks import Callback\n",
        "from keras.backend import clear_session\n",
        "from keras.models import Model, load_model, Sequential\n",
        "from keras.layers import Dense, Input, Flatten, Conv2D, MaxPooling2D, BatchNormalization\n",
        "from tensorflow.keras.applications import resnet50, mobilenet, xception\n",
        "from tensorflow.keras.optimizers import SGD\n",
        "\n",
        "from sklearn.metrics import f1_score\n",
        "from sklearn.model_selection import train_test_split\n"
      ]
    },
    {
      "cell_type": "code",
      "execution_count": 5,
      "metadata": {
        "colab": {
          "base_uri": "https://localhost:8080/"
        },
        "id": "R-c2fSYTziww",
        "outputId": "12dc930e-6344-4845-ea6b-72547e6555dd"
      },
      "outputs": [
        {
          "output_type": "stream",
          "name": "stdout",
          "text": [
            "Mounted at /content/drive\n"
          ]
        }
      ],
      "source": [
        "from google.colab import drive\n",
        "drive.mount('/content/drive')"
      ]
    },
    {
      "cell_type": "code",
      "execution_count": 6,
      "metadata": {
        "id": "02P0B1WYon6t"
      },
      "outputs": [],
      "source": [
        "# data_path = \"/content/drive/MyDrive/gproject/Food Images/Food Images\"\n",
        "images_fl = '/content/drive/MyDrive/gproject/Food Images/Food Images'"
      ]
    },
    {
      "cell_type": "code",
      "execution_count": 7,
      "metadata": {
        "id": "EZsDOwfSxZLK"
      },
      "outputs": [],
      "source": [
        "image_files = os.listdir(images_fl)\n",
        "image_file_set= set(image_files)"
      ]
    },
    {
      "cell_type": "code",
      "execution_count": 8,
      "metadata": {
        "id": "OxvzNRB7J5pD"
      },
      "outputs": [],
      "source": [
        "df = pd.read_csv('/content/drive/MyDrive/gproject/Food Ingredients and Recipe Dataset with Image Name Mapping.csv')"
      ]
    },
    {
      "cell_type": "code",
      "execution_count": 9,
      "metadata": {
        "colab": {
          "base_uri": "https://localhost:8080/"
        },
        "id": "7aR3XC9EMeyF",
        "outputId": "0dd52593-e318-484a-a909-465120308d85"
      },
      "outputs": [
        {
          "output_type": "stream",
          "name": "stdout",
          "text": [
            "object\n",
            "0\n",
            "       Unnamed: 0                                              Title  \\\n",
            "0               0  Miso-Butter Roast Chicken With Acorn Squash Pa...   \n",
            "1               1                    Crispy Salt and Pepper Potatoes   \n",
            "2               2                        Thanksgiving Mac and Cheese   \n",
            "3               3                 Italian Sausage and Bread Stuffing   \n",
            "4               4                                       Newton's Law   \n",
            "...           ...                                                ...   \n",
            "13496       13496                               Brownie Pudding Cake   \n",
            "13497       13497  Israeli Couscous with Roasted Butternut Squash...   \n",
            "13498       13498  Rice with Soy-Glazed Bonito Flakes and Sesame ...   \n",
            "13499       13499                                        Spanakopita   \n",
            "13500       13500  Mexican Poblano, Spinach, and Black Bean \"Lasa...   \n",
            "\n",
            "                                             Ingredients  \\\n",
            "0      ['1 (3½–4-lb.) whole chicken', '2¾ tsp. kosher...   \n",
            "1      ['2 large egg whites', '1 pound new potatoes (...   \n",
            "2      ['1 cup evaporated milk', '1 cup whole milk', ...   \n",
            "3      ['1 (¾- to 1-pound) round Italian loaf, cut in...   \n",
            "4      ['1 teaspoon dark brown sugar', '1 teaspoon ho...   \n",
            "...                                                  ...   \n",
            "13496  ['1 cup all-purpose flour', '2/3 cup unsweeten...   \n",
            "13497  ['1 preserved lemon', '1 1/2 pound butternut s...   \n",
            "13498  ['Leftover katsuo bushi (dried bonito flakes) ...   \n",
            "13499  ['1 stick (1/2 cup) plus 1 tablespoon unsalted...   \n",
            "13500  ['12 medium to large fresh poblano chiles (2 1...   \n",
            "\n",
            "                                            Instructions  \\\n",
            "0      Pat chicken dry with paper towels, season all ...   \n",
            "1      Preheat oven to 400°F and line a rimmed baking...   \n",
            "2      Place a rack in middle of oven; preheat to 400...   \n",
            "3      Preheat oven to 350°F with rack in middle. Gen...   \n",
            "4      Stir together brown sugar and hot water in a c...   \n",
            "...                                                  ...   \n",
            "13496  Preheat the oven to 350°F. Into a bowl sift to...   \n",
            "13497  Preheat oven to 475°F.\\nHalve lemons and scoop...   \n",
            "13498  If using katsuo bushi flakes from package, moi...   \n",
            "13499  Melt 1 tablespoon butter in a 12-inch heavy sk...   \n",
            "13500  Lay 4 chiles on their sides on racks of gas bu...   \n",
            "\n",
            "                                              Image_Name  \\\n",
            "0      miso-butter-roast-chicken-acorn-squash-panzanella   \n",
            "1             crispy-salt-and-pepper-potatoes-dan-kluger   \n",
            "2             thanksgiving-mac-and-cheese-erick-williams   \n",
            "3              italian-sausage-and-bread-stuffing-240559   \n",
            "4                     newtons-law-apple-bourbon-cocktail   \n",
            "...                                                  ...   \n",
            "13496                         brownie-pudding-cake-14408   \n",
            "13497  israeli-couscous-with-roasted-butternut-squash...   \n",
            "13498  rice-with-soy-glazed-bonito-flakes-and-sesame-...   \n",
            "13499                                 spanakopita-107344   \n",
            "13500  mexican-poblano-spinach-and-black-bean-lasagne...   \n",
            "\n",
            "                                     Cleaned_Ingredients  \n",
            "0      ['1 (3½–4-lb.) whole chicken', '2¾ tsp. kosher...  \n",
            "1      ['2 large egg whites', '1 pound new potatoes (...  \n",
            "2      ['1 cup evaporated milk', '1 cup whole milk', ...  \n",
            "3      ['1 (¾- to 1-pound) round Italian loaf, cut in...  \n",
            "4      ['1 teaspoon dark brown sugar', '1 teaspoon ho...  \n",
            "...                                                  ...  \n",
            "13496  ['1 cup all-purpose flour', '2/3 cup unsweeten...  \n",
            "13497  ['1 preserved lemon', '1 1/2 pound butternut s...  \n",
            "13498  ['Leftover katsuo bushi (dried bonito flakes) ...  \n",
            "13499  ['1 stick (1/2 cup) plus 1 tablespoon unsalted...  \n",
            "13500  ['12 medium to large fresh poblano chiles (2 1...  \n",
            "\n",
            "[13501 rows x 6 columns]\n"
          ]
        }
      ],
      "source": [
        "print(df['Image_Name'].dtype)\n",
        "print(df['Image_Name'].isnull().sum())\n",
        "# print(df['Image_Name'].isnull().sum())\n",
        "missing_extensions = df[~df['Image_Name'].str.endswith(('.jpg'))]\n",
        "print(missing_extensions)\n",
        "df['Image_Name'] = df['Image_Name'].str.strip().str.lower()"
      ]
    },
    {
      "cell_type": "code",
      "execution_count": 10,
      "metadata": {
        "id": "CTWa8LEpVNfH"
      },
      "outputs": [],
      "source": [
        "# fixing mising extensio\n",
        "df['Image_Name'] = df['Image_Name'].apply(lambda x: x + '.jpg' if not x.endswith(('.jpg', '.png')) else x)"
      ]
    },
    {
      "cell_type": "code",
      "execution_count": 11,
      "metadata": {
        "colab": {
          "base_uri": "https://localhost:8080/"
        },
        "id": "haaVeUama-n0",
        "outputId": "df318129-b153-4f3f-d3eb-6dafebdc347f"
      },
      "outputs": [
        {
          "output_type": "stream",
          "name": "stdout",
          "text": [
            "Missing images: {'#name?.jpg'}\n",
            "Number of valid rows: 13471\n"
          ]
        }
      ],
      "source": [
        "dataset_images = set(df['Image_Name'])  # Extract unique image names from the DataFrame\n",
        "missing_images = dataset_images - image_file_set  # Find images in the DataFrame not in the directory\n",
        "if missing_images:\n",
        "    print(f\"Missing images: {missing_images}\")\n",
        "else:\n",
        "    print(\"No missing images.\")\n",
        "valid_df = df[df['Image_Name'].isin(image_file_set)]\n",
        "print(f\"Number of valid rows: {len(valid_df)}\")\n",
        "\n",
        "# # Use `valid_df` for dataset creation\n",
        "# dataset = create_dataset(valid_df)"
      ]
    },
    {
      "cell_type": "code",
      "execution_count": 12,
      "metadata": {
        "id": "TG6EdSVsMYzh"
      },
      "outputs": [],
      "source": [
        "df['Ingredients'] = df['Ingredients'].apply(lambda x: x.split(','))\n",
        "valid_ingredients_list = sorted(list({Ingredient.strip() for row in df['Ingredients'] for Ingredient in row}))\n",
        "NUM_INGREDIENTS = len(valid_ingredients_list)"
      ]
    },
    {
      "cell_type": "code",
      "execution_count": 13,
      "metadata": {
        "colab": {
          "base_uri": "https://localhost:8080/"
        },
        "id": "fNxH6Ci_Mp8s",
        "outputId": "bd5d2962-6f1f-47a7-b127-e194957c3a93"
      },
      "outputs": [
        {
          "output_type": "execute_result",
          "data": {
            "text/plain": [
              "83374"
            ]
          },
          "metadata": {},
          "execution_count": 13
        }
      ],
      "source": [
        "NUM_INGREDIENTS"
      ]
    },
    {
      "cell_type": "code",
      "execution_count": 14,
      "metadata": {
        "id": "Ts7N634yMp2e"
      },
      "outputs": [],
      "source": [
        "# Ingredient to index mapping\n",
        "ingredient_to_index ={Ingredient: idx for idx, Ingredient in enumerate(valid_ingredients_list)}\n",
        "# ingredient_to_index"
      ]
    },
    {
      "cell_type": "code",
      "execution_count": 15,
      "metadata": {
        "id": "yLKHizQVM8cm"
      },
      "outputs": [],
      "source": [
        "#  ingredients into a multi-hot vector\n",
        "def encode_ingredients(ingredients):\n",
        "\n",
        "    indices = [ingredient_to_index[ingredient.strip()] for ingredient in ingredients if ingredient.strip() in ingredient_to_index]\n",
        "    return tf.keras.utils.to_categorical(indices, num_classes=NUM_INGREDIENTS).sum(axis=0)\n",
        "\n",
        "valid_df['encoded_ingredients'] = valid_df['Ingredients'].apply(encode_ingredients)\n"
      ]
    },
    {
      "cell_type": "code",
      "execution_count": 16,
      "metadata": {
        "id": "BpTetlHqNYW5"
      },
      "outputs": [],
      "source": [
        "# df['encoded_ingredients']"
      ]
    },
    {
      "cell_type": "code",
      "execution_count": 17,
      "metadata": {
        "id": "f0wdK2moNbci"
      },
      "outputs": [],
      "source": [
        "# Preprocessing\n",
        "IMG_SIZE = 224\n",
        "NUM_CHANNELS = 3\n",
        "\n",
        "def preprocess_image(image_path):\n",
        "    try:  # Wrap the image loading and decoding in a try-except block\n",
        "        image = tf.io.read_file(image_path)\n",
        "        image = tf.image.decode_jpeg(image, channels=3)  # Attempt to decode the image\n",
        "    except tf.errors.InvalidArgumentError:\n",
        "        # Handle invalid image files\n",
        "        print(f\"Warning: Unable to decode image at {image_path}. Skipping...\")\n",
        "        return tf.zeros((IMG_SIZE, IMG_SIZE, 3))  # Return a placeholder image\n",
        "\n",
        "    image = tf.image.resize(image, [IMG_SIZE, IMG_SIZE])\n",
        "    image = tf.image.convert_image_dtype(image, tf.float32)\n",
        "    image = tf.image.random_contrast(image, lower=0.8, upper=1.2)\n",
        "    return image\n"
      ]
    },
    {
      "cell_type": "code",
      "execution_count": 18,
      "metadata": {
        "id": "TgVal9MUNjTT"
      },
      "outputs": [],
      "source": [
        "def preprocess_data(row, index=None):  # Add a second parameter\n",
        "    image_name = row['Image_Name']  # Extract the image name from the row\n",
        "    if image_name in image_file_set:\n",
        "        # Only process the image if it exists in the directory\n",
        "        image_path = os.path.join(images_fl, image_name)\n",
        "        image = preprocess_image(image_path)\n",
        "    else:\n",
        "        # Handle missing images placeholder\n",
        "        print(f\"Warning: {image_name} not found in directory.\")\n",
        "        image = tf.zeros((IMG_SIZE, IMG_SIZE, 3))\n",
        "\n",
        "    # Convert ingredients to a tensor\n",
        "    ingredients = tf.convert_to_tensor(row['encoded_ingredients'], dtype=tf.float32)\n",
        "    return image, ingredients"
      ]
    },
    {
      "cell_type": "code",
      "execution_count": 19,
      "metadata": {
        "id": "qNwoXP6Jm7Gr",
        "colab": {
          "base_uri": "https://localhost:8080/"
        },
        "outputId": "adcb95ec-5a3c-412e-cc8a-cdbcadad3fc6"
      },
      "outputs": [
        {
          "output_type": "stream",
          "name": "stdout",
          "text": [
            "Downloading data from https://storage.googleapis.com/tensorflow/keras-applications/mobilenet_v2/mobilenet_v2_weights_tf_dim_ordering_tf_kernels_1.0_224_no_top.h5\n",
            "\u001b[1m9406464/9406464\u001b[0m \u001b[32m━━━━━━━━━━━━━━━━━━━━\u001b[0m\u001b[37m\u001b[0m \u001b[1m1s\u001b[0m 0us/step\n"
          ]
        }
      ],
      "source": [
        "base_model = tf.keras.applications.MobileNetV2(input_shape=(IMG_SIZE, IMG_SIZE, 3),\n",
        "                                               include_top=False,\n",
        "                                               weights='imagenet')\n",
        "base_model.trainable = False  # Freeze the base model\n",
        "\n",
        "input_layer = layers.Input(shape=(IMG_SIZE, IMG_SIZE, 3))\n",
        "x = base_model(input_layer, training=False)\n",
        "x = layers.GlobalAveragePooling2D()(x)\n",
        "x = layers.Dense(128, activation='relu')(x)\n",
        "x = layers.BatchNormalization()(x)\n",
        "x = layers.Dropout(0.3)(x)\n",
        "output_layer = layers.Dense(NUM_INGREDIENTS, activation='sigmoid')(x)\n",
        "\n",
        "model = tf.keras.Model(inputs=input_layer, outputs=output_layer)\n",
        "model.compile(optimizer='adam', loss='binary_crossentropy', metrics=['accuracy'])"
      ]
    },
    {
      "cell_type": "code",
      "execution_count": 20,
      "metadata": {
        "id": "sm58L1kDe5gC"
      },
      "outputs": [],
      "source": [
        "def data_generator(df):\n",
        "    \"\"\"Yields data one row at a time.\"\"\"\n",
        "    for _, row in df.iterrows():\n",
        "        yield preprocess_data(row)"
      ]
    },
    {
      "cell_type": "code",
      "execution_count": 21,
      "metadata": {
        "id": "fG772HeCKh24"
      },
      "outputs": [],
      "source": [
        "IMG_SIZE = 224\n",
        "NUM_INGREDIENTS = 83374\n",
        "BATCH_SIZE = 32\n",
        "EPOCHS = 10\n",
        "ACTI = \"relu\""
      ]
    },
    {
      "cell_type": "code",
      "execution_count": 22,
      "metadata": {
        "id": "0u0reBpIOvk6"
      },
      "outputs": [],
      "source": [
        "def create_dataset(df):\n",
        "    \"\"\"Creates a dataset using a generator.\"\"\"\n",
        "    dataset = tf.data.Dataset.from_generator(\n",
        "        lambda: data_generator(df),\n",
        "        output_signature=(\n",
        "            tf.TensorSpec(shape=(IMG_SIZE, IMG_SIZE, 3), dtype=tf.float32),\n",
        "            tf.TensorSpec(shape=(NUM_INGREDIENTS,), dtype=tf.float32)\n",
        "        )\n",
        "    )\n",
        "    return dataset.shuffle(buffer_size=1000).batch(BATCH_SIZE).prefetch(tf.data.AUTOTUNE)\n",
        "\n",
        "# Load and preprocess data\n",
        "dataset = create_dataset(valid_df)\n",
        "\n",
        "# Split dataset into train and test\n",
        "test_dataset = dataset.take(1000)  # Take first 1000 samples for testing\n",
        "train_dataset = dataset.skip(1000)  # Remaining samples for training\n",
        "\n",
        "# Build the model\n",
        "model = tf.keras.Sequential()\n",
        "model.add(tf.keras.layers.Rescaling(1.0 / 255, input_shape=(IMG_SIZE, IMG_SIZE, NUM_CHANNELS)))\n",
        "\n",
        "\n",
        "# Resize and rescale layer (example)\n",
        "resize_and_rescale = tf.keras.layers.Rescaling(1.0 / 255)\n",
        "\n",
        "# Data augmentation (example)\n",
        "data_augmentation = tf.keras.Sequential([\n",
        "    tf.keras.layers.RandomFlip(\"horizontal\"),\n",
        "    tf.keras.layers.RandomRotation(0.1),\n",
        "])\n",
        "\n",
        "# model.add(resize_and_rescale)\n",
        "model.add(data_augmentation)\n"
      ]
    },
    {
      "cell_type": "code",
      "execution_count": 23,
      "metadata": {
        "colab": {
          "base_uri": "https://localhost:8080/"
        },
        "id": "y9NaVNJlr53Q",
        "outputId": "a6016711-052f-46fb-a6e4-43605a085621"
      },
      "outputs": [
        {
          "output_type": "execute_result",
          "data": {
            "text/plain": [
              "<_PrefetchDataset element_spec=(TensorSpec(shape=(None, 224, 224, 3), dtype=tf.float32, name=None), TensorSpec(shape=(None, 83374), dtype=tf.float32, name=None))>"
            ]
          },
          "metadata": {},
          "execution_count": 23
        }
      ],
      "source": [
        "dataset"
      ]
    },
    {
      "cell_type": "code",
      "execution_count": 24,
      "metadata": {
        "id": "ks8X4NRMerAH"
      },
      "outputs": [],
      "source": [
        "# Add convolutional layers\n",
        "CONV_DEPTHS = [32, 64, 128]\n",
        "CONV_KERNEL_SIZE = (3, 3)\n",
        "POOL_SIZE = (2, 2)\n",
        "ACTI = \"relu\"\n",
        "\n",
        "for size in CONV_DEPTHS:\n",
        "    model.add(tf.keras.layers.Conv2D(size, CONV_KERNEL_SIZE, activation=ACTI, padding=\"same\"))\n",
        "    model.add(tf.keras.layers.MaxPooling2D(POOL_SIZE))"
      ]
    },
    {
      "cell_type": "code",
      "execution_count": null,
      "metadata": {
        "colab": {
          "base_uri": "https://localhost:8080/",
          "height": 530
        },
        "id": "YDqI1aQZYqjc",
        "outputId": "23b04a6a-7996-4868-9359-b351dfb26ce7"
      },
      "outputs": [
        {
          "output_type": "display_data",
          "data": {
            "text/plain": [
              "\u001b[1mModel: \"sequential\"\u001b[0m\n"
            ],
            "text/html": [
              "<pre style=\"white-space:pre;overflow-x:auto;line-height:normal;font-family:Menlo,'DejaVu Sans Mono',consolas,'Courier New',monospace\"><span style=\"font-weight: bold\">Model: \"sequential\"</span>\n",
              "</pre>\n"
            ]
          },
          "metadata": {}
        },
        {
          "output_type": "display_data",
          "data": {
            "text/plain": [
              "┏━━━━━━━━━━━━━━━━━━━━━━━━━━━━━━━━━━━━━━┳━━━━━━━━━━━━━━━━━━━━━━━━━━━━━┳━━━━━━━━━━━━━━━━━┓\n",
              "┃\u001b[1m \u001b[0m\u001b[1mLayer (type)                        \u001b[0m\u001b[1m \u001b[0m┃\u001b[1m \u001b[0m\u001b[1mOutput Shape               \u001b[0m\u001b[1m \u001b[0m┃\u001b[1m \u001b[0m\u001b[1m        Param #\u001b[0m\u001b[1m \u001b[0m┃\n",
              "┡━━━━━━━━━━━━━━━━━━━━━━━━━━━━━━━━━━━━━━╇━━━━━━━━━━━━━━━━━━━━━━━━━━━━━╇━━━━━━━━━━━━━━━━━┩\n",
              "│ rescaling (\u001b[38;5;33mRescaling\u001b[0m)                │ (\u001b[38;5;45mNone\u001b[0m, \u001b[38;5;34m224\u001b[0m, \u001b[38;5;34m224\u001b[0m, \u001b[38;5;34m3\u001b[0m)         │               \u001b[38;5;34m0\u001b[0m │\n",
              "├──────────────────────────────────────┼─────────────────────────────┼─────────────────┤\n",
              "│ sequential_1 (\u001b[38;5;33mSequential\u001b[0m)            │ (\u001b[38;5;45mNone\u001b[0m, \u001b[38;5;34m224\u001b[0m, \u001b[38;5;34m224\u001b[0m, \u001b[38;5;34m3\u001b[0m)         │               \u001b[38;5;34m0\u001b[0m │\n",
              "├──────────────────────────────────────┼─────────────────────────────┼─────────────────┤\n",
              "│ conv2d (\u001b[38;5;33mConv2D\u001b[0m)                      │ (\u001b[38;5;45mNone\u001b[0m, \u001b[38;5;34m224\u001b[0m, \u001b[38;5;34m224\u001b[0m, \u001b[38;5;34m32\u001b[0m)        │             \u001b[38;5;34m896\u001b[0m │\n",
              "├──────────────────────────────────────┼─────────────────────────────┼─────────────────┤\n",
              "│ max_pooling2d (\u001b[38;5;33mMaxPooling2D\u001b[0m)         │ (\u001b[38;5;45mNone\u001b[0m, \u001b[38;5;34m112\u001b[0m, \u001b[38;5;34m112\u001b[0m, \u001b[38;5;34m32\u001b[0m)        │               \u001b[38;5;34m0\u001b[0m │\n",
              "├──────────────────────────────────────┼─────────────────────────────┼─────────────────┤\n",
              "│ conv2d_1 (\u001b[38;5;33mConv2D\u001b[0m)                    │ (\u001b[38;5;45mNone\u001b[0m, \u001b[38;5;34m112\u001b[0m, \u001b[38;5;34m112\u001b[0m, \u001b[38;5;34m64\u001b[0m)        │          \u001b[38;5;34m18,496\u001b[0m │\n",
              "├──────────────────────────────────────┼─────────────────────────────┼─────────────────┤\n",
              "│ max_pooling2d_1 (\u001b[38;5;33mMaxPooling2D\u001b[0m)       │ (\u001b[38;5;45mNone\u001b[0m, \u001b[38;5;34m56\u001b[0m, \u001b[38;5;34m56\u001b[0m, \u001b[38;5;34m64\u001b[0m)          │               \u001b[38;5;34m0\u001b[0m │\n",
              "├──────────────────────────────────────┼─────────────────────────────┼─────────────────┤\n",
              "│ conv2d_2 (\u001b[38;5;33mConv2D\u001b[0m)                    │ (\u001b[38;5;45mNone\u001b[0m, \u001b[38;5;34m56\u001b[0m, \u001b[38;5;34m56\u001b[0m, \u001b[38;5;34m128\u001b[0m)         │          \u001b[38;5;34m73,856\u001b[0m │\n",
              "├──────────────────────────────────────┼─────────────────────────────┼─────────────────┤\n",
              "│ max_pooling2d_2 (\u001b[38;5;33mMaxPooling2D\u001b[0m)       │ (\u001b[38;5;45mNone\u001b[0m, \u001b[38;5;34m28\u001b[0m, \u001b[38;5;34m28\u001b[0m, \u001b[38;5;34m128\u001b[0m)         │               \u001b[38;5;34m0\u001b[0m │\n",
              "├──────────────────────────────────────┼─────────────────────────────┼─────────────────┤\n",
              "│ flatten (\u001b[38;5;33mFlatten\u001b[0m)                    │ (\u001b[38;5;45mNone\u001b[0m, \u001b[38;5;34m100352\u001b[0m)              │               \u001b[38;5;34m0\u001b[0m │\n",
              "├──────────────────────────────────────┼─────────────────────────────┼─────────────────┤\n",
              "│ dense_2 (\u001b[38;5;33mDense\u001b[0m)                      │ (\u001b[38;5;45mNone\u001b[0m, \u001b[38;5;34m256\u001b[0m)                 │      \u001b[38;5;34m25,690,368\u001b[0m │\n",
              "├──────────────────────────────────────┼─────────────────────────────┼─────────────────┤\n",
              "│ dense_3 (\u001b[38;5;33mDense\u001b[0m)                      │ (\u001b[38;5;45mNone\u001b[0m, \u001b[38;5;34m128\u001b[0m)                 │          \u001b[38;5;34m32,896\u001b[0m │\n",
              "├──────────────────────────────────────┼─────────────────────────────┼─────────────────┤\n",
              "│ dense_4 (\u001b[38;5;33mDense\u001b[0m)                      │ (\u001b[38;5;45mNone\u001b[0m, \u001b[38;5;34m83374\u001b[0m)               │      \u001b[38;5;34m10,755,246\u001b[0m │\n",
              "└──────────────────────────────────────┴─────────────────────────────┴─────────────────┘\n"
            ],
            "text/html": [
              "<pre style=\"white-space:pre;overflow-x:auto;line-height:normal;font-family:Menlo,'DejaVu Sans Mono',consolas,'Courier New',monospace\">┏━━━━━━━━━━━━━━━━━━━━━━━━━━━━━━━━━━━━━━┳━━━━━━━━━━━━━━━━━━━━━━━━━━━━━┳━━━━━━━━━━━━━━━━━┓\n",
              "┃<span style=\"font-weight: bold\"> Layer (type)                         </span>┃<span style=\"font-weight: bold\"> Output Shape                </span>┃<span style=\"font-weight: bold\">         Param # </span>┃\n",
              "┡━━━━━━━━━━━━━━━━━━━━━━━━━━━━━━━━━━━━━━╇━━━━━━━━━━━━━━━━━━━━━━━━━━━━━╇━━━━━━━━━━━━━━━━━┩\n",
              "│ rescaling (<span style=\"color: #0087ff; text-decoration-color: #0087ff\">Rescaling</span>)                │ (<span style=\"color: #00d7ff; text-decoration-color: #00d7ff\">None</span>, <span style=\"color: #00af00; text-decoration-color: #00af00\">224</span>, <span style=\"color: #00af00; text-decoration-color: #00af00\">224</span>, <span style=\"color: #00af00; text-decoration-color: #00af00\">3</span>)         │               <span style=\"color: #00af00; text-decoration-color: #00af00\">0</span> │\n",
              "├──────────────────────────────────────┼─────────────────────────────┼─────────────────┤\n",
              "│ sequential_1 (<span style=\"color: #0087ff; text-decoration-color: #0087ff\">Sequential</span>)            │ (<span style=\"color: #00d7ff; text-decoration-color: #00d7ff\">None</span>, <span style=\"color: #00af00; text-decoration-color: #00af00\">224</span>, <span style=\"color: #00af00; text-decoration-color: #00af00\">224</span>, <span style=\"color: #00af00; text-decoration-color: #00af00\">3</span>)         │               <span style=\"color: #00af00; text-decoration-color: #00af00\">0</span> │\n",
              "├──────────────────────────────────────┼─────────────────────────────┼─────────────────┤\n",
              "│ conv2d (<span style=\"color: #0087ff; text-decoration-color: #0087ff\">Conv2D</span>)                      │ (<span style=\"color: #00d7ff; text-decoration-color: #00d7ff\">None</span>, <span style=\"color: #00af00; text-decoration-color: #00af00\">224</span>, <span style=\"color: #00af00; text-decoration-color: #00af00\">224</span>, <span style=\"color: #00af00; text-decoration-color: #00af00\">32</span>)        │             <span style=\"color: #00af00; text-decoration-color: #00af00\">896</span> │\n",
              "├──────────────────────────────────────┼─────────────────────────────┼─────────────────┤\n",
              "│ max_pooling2d (<span style=\"color: #0087ff; text-decoration-color: #0087ff\">MaxPooling2D</span>)         │ (<span style=\"color: #00d7ff; text-decoration-color: #00d7ff\">None</span>, <span style=\"color: #00af00; text-decoration-color: #00af00\">112</span>, <span style=\"color: #00af00; text-decoration-color: #00af00\">112</span>, <span style=\"color: #00af00; text-decoration-color: #00af00\">32</span>)        │               <span style=\"color: #00af00; text-decoration-color: #00af00\">0</span> │\n",
              "├──────────────────────────────────────┼─────────────────────────────┼─────────────────┤\n",
              "│ conv2d_1 (<span style=\"color: #0087ff; text-decoration-color: #0087ff\">Conv2D</span>)                    │ (<span style=\"color: #00d7ff; text-decoration-color: #00d7ff\">None</span>, <span style=\"color: #00af00; text-decoration-color: #00af00\">112</span>, <span style=\"color: #00af00; text-decoration-color: #00af00\">112</span>, <span style=\"color: #00af00; text-decoration-color: #00af00\">64</span>)        │          <span style=\"color: #00af00; text-decoration-color: #00af00\">18,496</span> │\n",
              "├──────────────────────────────────────┼─────────────────────────────┼─────────────────┤\n",
              "│ max_pooling2d_1 (<span style=\"color: #0087ff; text-decoration-color: #0087ff\">MaxPooling2D</span>)       │ (<span style=\"color: #00d7ff; text-decoration-color: #00d7ff\">None</span>, <span style=\"color: #00af00; text-decoration-color: #00af00\">56</span>, <span style=\"color: #00af00; text-decoration-color: #00af00\">56</span>, <span style=\"color: #00af00; text-decoration-color: #00af00\">64</span>)          │               <span style=\"color: #00af00; text-decoration-color: #00af00\">0</span> │\n",
              "├──────────────────────────────────────┼─────────────────────────────┼─────────────────┤\n",
              "│ conv2d_2 (<span style=\"color: #0087ff; text-decoration-color: #0087ff\">Conv2D</span>)                    │ (<span style=\"color: #00d7ff; text-decoration-color: #00d7ff\">None</span>, <span style=\"color: #00af00; text-decoration-color: #00af00\">56</span>, <span style=\"color: #00af00; text-decoration-color: #00af00\">56</span>, <span style=\"color: #00af00; text-decoration-color: #00af00\">128</span>)         │          <span style=\"color: #00af00; text-decoration-color: #00af00\">73,856</span> │\n",
              "├──────────────────────────────────────┼─────────────────────────────┼─────────────────┤\n",
              "│ max_pooling2d_2 (<span style=\"color: #0087ff; text-decoration-color: #0087ff\">MaxPooling2D</span>)       │ (<span style=\"color: #00d7ff; text-decoration-color: #00d7ff\">None</span>, <span style=\"color: #00af00; text-decoration-color: #00af00\">28</span>, <span style=\"color: #00af00; text-decoration-color: #00af00\">28</span>, <span style=\"color: #00af00; text-decoration-color: #00af00\">128</span>)         │               <span style=\"color: #00af00; text-decoration-color: #00af00\">0</span> │\n",
              "├──────────────────────────────────────┼─────────────────────────────┼─────────────────┤\n",
              "│ flatten (<span style=\"color: #0087ff; text-decoration-color: #0087ff\">Flatten</span>)                    │ (<span style=\"color: #00d7ff; text-decoration-color: #00d7ff\">None</span>, <span style=\"color: #00af00; text-decoration-color: #00af00\">100352</span>)              │               <span style=\"color: #00af00; text-decoration-color: #00af00\">0</span> │\n",
              "├──────────────────────────────────────┼─────────────────────────────┼─────────────────┤\n",
              "│ dense_2 (<span style=\"color: #0087ff; text-decoration-color: #0087ff\">Dense</span>)                      │ (<span style=\"color: #00d7ff; text-decoration-color: #00d7ff\">None</span>, <span style=\"color: #00af00; text-decoration-color: #00af00\">256</span>)                 │      <span style=\"color: #00af00; text-decoration-color: #00af00\">25,690,368</span> │\n",
              "├──────────────────────────────────────┼─────────────────────────────┼─────────────────┤\n",
              "│ dense_3 (<span style=\"color: #0087ff; text-decoration-color: #0087ff\">Dense</span>)                      │ (<span style=\"color: #00d7ff; text-decoration-color: #00d7ff\">None</span>, <span style=\"color: #00af00; text-decoration-color: #00af00\">128</span>)                 │          <span style=\"color: #00af00; text-decoration-color: #00af00\">32,896</span> │\n",
              "├──────────────────────────────────────┼─────────────────────────────┼─────────────────┤\n",
              "│ dense_4 (<span style=\"color: #0087ff; text-decoration-color: #0087ff\">Dense</span>)                      │ (<span style=\"color: #00d7ff; text-decoration-color: #00d7ff\">None</span>, <span style=\"color: #00af00; text-decoration-color: #00af00\">83374</span>)               │      <span style=\"color: #00af00; text-decoration-color: #00af00\">10,755,246</span> │\n",
              "└──────────────────────────────────────┴─────────────────────────────┴─────────────────┘\n",
              "</pre>\n"
            ]
          },
          "metadata": {}
        },
        {
          "output_type": "display_data",
          "data": {
            "text/plain": [
              "\u001b[1m Total params: \u001b[0m\u001b[38;5;34m36,571,758\u001b[0m (139.51 MB)\n"
            ],
            "text/html": [
              "<pre style=\"white-space:pre;overflow-x:auto;line-height:normal;font-family:Menlo,'DejaVu Sans Mono',consolas,'Courier New',monospace\"><span style=\"font-weight: bold\"> Total params: </span><span style=\"color: #00af00; text-decoration-color: #00af00\">36,571,758</span> (139.51 MB)\n",
              "</pre>\n"
            ]
          },
          "metadata": {}
        },
        {
          "output_type": "display_data",
          "data": {
            "text/plain": [
              "\u001b[1m Trainable params: \u001b[0m\u001b[38;5;34m36,571,758\u001b[0m (139.51 MB)\n"
            ],
            "text/html": [
              "<pre style=\"white-space:pre;overflow-x:auto;line-height:normal;font-family:Menlo,'DejaVu Sans Mono',consolas,'Courier New',monospace\"><span style=\"font-weight: bold\"> Trainable params: </span><span style=\"color: #00af00; text-decoration-color: #00af00\">36,571,758</span> (139.51 MB)\n",
              "</pre>\n"
            ]
          },
          "metadata": {}
        },
        {
          "output_type": "display_data",
          "data": {
            "text/plain": [
              "\u001b[1m Non-trainable params: \u001b[0m\u001b[38;5;34m0\u001b[0m (0.00 B)\n"
            ],
            "text/html": [
              "<pre style=\"white-space:pre;overflow-x:auto;line-height:normal;font-family:Menlo,'DejaVu Sans Mono',consolas,'Courier New',monospace\"><span style=\"font-weight: bold\"> Non-trainable params: </span><span style=\"color: #00af00; text-decoration-color: #00af00\">0</span> (0.00 B)\n",
              "</pre>\n"
            ]
          },
          "metadata": {}
        },
        {
          "output_type": "stream",
          "name": "stdout",
          "text": [
            "Epoch 1/10\n"
          ]
        }
      ],
      "source": [
        "\n",
        "model.add(tf.keras.layers.Flatten())\n",
        "\n",
        "# Add dense layers\n",
        "DENSE_SIZES = [256, 128]\n",
        "for size in DENSE_SIZES:\n",
        "    model.add(tf.keras.layers.Dense(size, activation=ACTI))\n",
        "\n",
        "# Final classification layer\n",
        "model.add(tf.keras.layers.Dense(NUM_INGREDIENTS, activation=\"sigmoid\"))\n",
        "\n",
        "# Compile the model\n",
        "model.compile(\n",
        "    loss=\"binary_crossentropy\",\n",
        "    optimizer=\"adam\",\n",
        "    metrics=[tf.keras.metrics.BinaryAccuracy(), tf.keras.metrics.AUC()]\n",
        ")\n",
        "\n",
        "# Print model summary\n",
        "model.summary()\n",
        "\n",
        "# Train the model\n",
        "# callbacks = [\n",
        "#     tf.keras.callbacks.ModelCheckpoint(\"model_checkpoint.keras\", save_best_only=True),\n",
        "#     tf.keras.callbacks.EarlyStopping(monitor=\"loss\", patience=3),\n",
        "#     tf.keras.callbacks.TensorBoard(log_dir=\"logs\", histogram_freq=1),\n",
        "# ]\n",
        "\n",
        "history = model.fit(train_dataset,epochs=EPOCHS,validation_data=test_dataset)\n",
        "\n"
      ]
    },
    {
      "cell_type": "code",
      "execution_count": null,
      "metadata": {
        "id": "Wcgrm6gTPDVe"
      },
      "outputs": [],
      "source": [
        "# Analyze training history\n",
        "import matplotlib.pyplot as plt\n",
        "\n",
        "# Plot training accuracy and loss\n",
        "plt.figure(figsize=(10, 5))\n",
        "\n",
        "# Training accuracy\n",
        "plt.subplot(1, 2, 1)\n",
        "plt.plot(history.history['binary_accuracy'], label='Training Accuracy')\n",
        "plt.plot(history.history['val_binary_accuracy'], label='Validation Accuracy')\n",
        "plt.title('Accuracy')\n",
        "plt.legend()\n",
        "\n",
        "# Training loss\n",
        "plt.subplot(1, 2, 2)\n",
        "plt.plot(history.history['loss'], label='Training Loss')\n",
        "plt.plot(history.history['val_loss'], label='Validation Loss')\n",
        "plt.title('Loss')\n",
        "plt.legend()\n",
        "\n",
        "plt.show()\n"
      ]
    },
    {
      "cell_type": "code",
      "execution_count": null,
      "metadata": {
        "id": "5gOxAEaXbST3"
      },
      "outputs": [],
      "source": [
        "dataset"
      ]
    }
  ],
  "metadata": {
    "colab": {
      "provenance": []
    },
    "kernelspec": {
      "display_name": "Python 3",
      "name": "python3"
    },
    "language_info": {
      "name": "python"
    }
  },
  "nbformat": 4,
  "nbformat_minor": 0
}